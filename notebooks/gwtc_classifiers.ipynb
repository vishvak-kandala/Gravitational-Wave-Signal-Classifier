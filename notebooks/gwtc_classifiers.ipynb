{
 "cells": [
  {
   "cell_type": "code",
   "execution_count": 127,
   "id": "2f0a7dd8",
   "metadata": {},
   "outputs": [],
   "source": [
    "import pandas as pd\n",
    "from sklearn.metrics import accuracy_score, classification_report\n",
    "from sklearn.model_selection import train_test_split\n",
    "from sklearn.impute import KNNImputer\n",
    "\n",
    "from sklearn.preprocessing import StandardScaler\n",
    "from sklearn.linear_model import LogisticRegression\n",
    "from sklearn.model_selection import StratifiedKFold\n",
    "from sklearn.model_selection import cross_val_score\n",
    "import numpy as np\n",
    "from sklearn.ensemble import RandomForestClassifier, VotingClassifier\n",
    "from sklearn.neural_network import MLPClassifier\n",
    "from sklearn.pipeline import make_pipeline"
   ]
  },
  {
   "cell_type": "markdown",
   "id": "399a5203",
   "metadata": {},
   "source": [
    "# Load and Clean Data"
   ]
  },
  {
   "cell_type": "code",
   "execution_count": 52,
   "id": "490caef0",
   "metadata": {},
   "outputs": [],
   "source": [
    "marginal_df = pd.read_csv(r\"C:\\Users\\erict\\Documents\\projects\\gwave_classify\\data\\gwtc_marginal.csv\")\n",
    "confident_df = pd.read_csv(r\"C:\\Users\\erict\\Documents\\projects\\gwave_classify\\data\\gwtc_confident.csv\")"
   ]
  },
  {
   "cell_type": "code",
   "execution_count": 53,
   "id": "76caf185",
   "metadata": {},
   "outputs": [],
   "source": [
    "confident_df[\"label\"] = 1  \n",
    "marginal_df[\"label\"] = 0  \n",
    "cleaned_df = pd.concat([confident_df, marginal_df], ignore_index=True)\n",
    "gwtc_df = cleaned_df.sample(frac=1, random_state=42).reset_index(drop=True)"
   ]
  },
  {
   "cell_type": "code",
   "execution_count": 77,
   "id": "134d322d",
   "metadata": {},
   "outputs": [],
   "source": [
    "drop_list = [\"id\", \"commonName\", \"version\", \"catalog.shortName\", \"GPS\", \"reference\", \"jsonurl\", \"far_lower\", \"far_upper\", \"p_astro_lower\", \"p_astro_upper\", \"chirp_mass_lower\", \"chirp_mass_upper\", \"chirp_mass\", \"mass_1_source_lower\", \"mass_1_source_upper\", \"mass_2_source_upper\", \"mass_2_source_lower\", \"network_matched_filter_snr_lower\", \"network_matched_filter_snr_upper\", \"luminosity_distance_lower\", \"luminosity_distance_upper\", \"chi_eff_lower\", \"chi_eff_upper\", \"total_mass_source_lower\", \"total_mass_source_upper\", \"redshift_lower\", \"redshift_upper\", \"final_mass_source_lower\", \"final_mass_source_upper\", \"chirp_mass_source_lower\", \"chirp_mass_source_upper\"]\n",
    "train_df = gwtc_df.drop(columns=drop_list)\n"
   ]
  },
  {
   "cell_type": "code",
   "execution_count": 80,
   "id": "96ed4877",
   "metadata": {},
   "outputs": [],
   "source": [
    "imputer = KNNImputer(n_neighbors=5)\n",
    "train_df[:] = imputer.fit_transform(train_df)"
   ]
  },
  {
   "cell_type": "markdown",
   "id": "465c06e0",
   "metadata": {},
   "source": [
    "# Create train and test sets"
   ]
  },
  {
   "cell_type": "code",
   "execution_count": 108,
   "id": "cb743d18",
   "metadata": {},
   "outputs": [],
   "source": [
    "X = train_df.drop(columns=[\"label\"])\n",
    "y = train_df[\"label\"]\n",
    "\n",
    "X_train, X_test, y_train, y_test = train_test_split(X, y, test_size=0.2, random_state=42)\n"
   ]
  },
  {
   "cell_type": "markdown",
   "id": "1bd99e10",
   "metadata": {},
   "source": [
    "# Create and run model"
   ]
  },
  {
   "cell_type": "code",
   "execution_count": 125,
   "id": "784ac04d",
   "metadata": {},
   "outputs": [
    {
     "name": "stdout",
     "output_type": "stream",
     "text": [
      "Accuracy: 0.9130434782608695\n"
     ]
    }
   ],
   "source": [
    "rfmodel = RandomForestClassifier(n_estimators=50, random_state=42, max_depth=10)\n",
    "rfmodel.fit(X_train, y_train)\n",
    "\n",
    "y_pred = rfmodel.predict(X_test)\n",
    "print(\"Accuracy:\", accuracy_score(y_test, y_pred))\n"
   ]
  },
  {
   "cell_type": "code",
   "execution_count": 110,
   "id": "28cc0984",
   "metadata": {},
   "outputs": [],
   "source": [
    "scaler = StandardScaler()\n",
    "X_train_log = scaler.fit_transform(X_train)\n",
    "X_test_log = scaler.transform(X_test)\n"
   ]
  },
  {
   "cell_type": "code",
   "execution_count": 126,
   "id": "50cb2792",
   "metadata": {},
   "outputs": [
    {
     "name": "stdout",
     "output_type": "stream",
     "text": [
      "Test Accuracy: 0.9130434782608695\n"
     ]
    }
   ],
   "source": [
    "\n",
    "lrmodel = LogisticRegression()\n",
    "lrmodel.fit(X_train_log, y_train)\n",
    "y_pred_log = lrmodel.predict(X_test_log)\n",
    "\n",
    "accuracy = accuracy_score(y_test, y_pred_log)\n",
    "print(f\"Test Accuracy: {accuracy}\")\n"
   ]
  },
  {
   "cell_type": "markdown",
   "id": "8eb97c50",
   "metadata": {},
   "source": [
    "# k-fold cross validation"
   ]
  },
  {
   "cell_type": "code",
   "execution_count": 122,
   "id": "d38f91a8",
   "metadata": {},
   "outputs": [
    {
     "name": "stdout",
     "output_type": "stream",
     "text": [
      "Random Forest Accuracy: 0.9735 +/- 0.0216\n",
      "Logistic Regression Accuracy: 0.7621 +/- 0.0564\n"
     ]
    },
    {
     "name": "stderr",
     "output_type": "stream",
     "text": [
      "C:\\Users\\erict\\anaconda3\\envs\\ml_eric_py310\\lib\\site-packages\\sklearn\\linear_model\\_logistic.py:469: ConvergenceWarning: lbfgs failed to converge (status=1):\n",
      "STOP: TOTAL NO. of ITERATIONS REACHED LIMIT.\n",
      "\n",
      "Increase the number of iterations (max_iter) or scale the data as shown in:\n",
      "    https://scikit-learn.org/stable/modules/preprocessing.html\n",
      "Please also refer to the documentation for alternative solver options:\n",
      "    https://scikit-learn.org/stable/modules/linear_model.html#logistic-regression\n",
      "  n_iter_i = _check_optimize_result(\n",
      "C:\\Users\\erict\\anaconda3\\envs\\ml_eric_py310\\lib\\site-packages\\sklearn\\linear_model\\_logistic.py:469: ConvergenceWarning: lbfgs failed to converge (status=1):\n",
      "STOP: TOTAL NO. of ITERATIONS REACHED LIMIT.\n",
      "\n",
      "Increase the number of iterations (max_iter) or scale the data as shown in:\n",
      "    https://scikit-learn.org/stable/modules/preprocessing.html\n",
      "Please also refer to the documentation for alternative solver options:\n",
      "    https://scikit-learn.org/stable/modules/linear_model.html#logistic-regression\n",
      "  n_iter_i = _check_optimize_result(\n",
      "C:\\Users\\erict\\anaconda3\\envs\\ml_eric_py310\\lib\\site-packages\\sklearn\\linear_model\\_logistic.py:469: ConvergenceWarning: lbfgs failed to converge (status=1):\n",
      "STOP: TOTAL NO. of ITERATIONS REACHED LIMIT.\n",
      "\n",
      "Increase the number of iterations (max_iter) or scale the data as shown in:\n",
      "    https://scikit-learn.org/stable/modules/preprocessing.html\n",
      "Please also refer to the documentation for alternative solver options:\n",
      "    https://scikit-learn.org/stable/modules/linear_model.html#logistic-regression\n",
      "  n_iter_i = _check_optimize_result(\n",
      "C:\\Users\\erict\\anaconda3\\envs\\ml_eric_py310\\lib\\site-packages\\sklearn\\linear_model\\_logistic.py:469: ConvergenceWarning: lbfgs failed to converge (status=1):\n",
      "STOP: TOTAL NO. of ITERATIONS REACHED LIMIT.\n",
      "\n",
      "Increase the number of iterations (max_iter) or scale the data as shown in:\n",
      "    https://scikit-learn.org/stable/modules/preprocessing.html\n",
      "Please also refer to the documentation for alternative solver options:\n",
      "    https://scikit-learn.org/stable/modules/linear_model.html#logistic-regression\n",
      "  n_iter_i = _check_optimize_result(\n",
      "C:\\Users\\erict\\anaconda3\\envs\\ml_eric_py310\\lib\\site-packages\\sklearn\\linear_model\\_logistic.py:469: ConvergenceWarning: lbfgs failed to converge (status=1):\n",
      "STOP: TOTAL NO. of ITERATIONS REACHED LIMIT.\n",
      "\n",
      "Increase the number of iterations (max_iter) or scale the data as shown in:\n",
      "    https://scikit-learn.org/stable/modules/preprocessing.html\n",
      "Please also refer to the documentation for alternative solver options:\n",
      "    https://scikit-learn.org/stable/modules/linear_model.html#logistic-regression\n",
      "  n_iter_i = _check_optimize_result(\n"
     ]
    }
   ],
   "source": [
    "kfold = StratifiedKFold(n_splits=5, shuffle=True, random_state=42)\n",
    "rf_scores = cross_val_score(rfmodel, X, y, cv=kfold, scoring='accuracy')\n",
    "lr_scores = cross_val_score(lrmodel, X, y, cv=kfold, scoring='accuracy')\n",
    "\n",
    "print(f\"Random Forest Accuracy: {np.mean(rf_scores):.4f} +/- {np.std(rf_scores):.4f}\")\n",
    "print(f\"Logistic Regression Accuracy: {np.mean(lr_scores):.4f} +/- {np.std(lr_scores):.4f}\")"
   ]
  },
  {
   "cell_type": "code",
   "execution_count": 131,
   "id": "c7408025",
   "metadata": {},
   "outputs": [],
   "source": [
    "# nn_model = MLPClassifier(hidden_layer_sizes=(16, 8), activation='relu', solver='adam', \n",
    "#                          alpha=0.01, max_iter=5000, random_state=42)\n",
    "\n",
    "# # Use a pipeline to scale data for the neural network\n",
    "# nn_pipeline = make_pipeline(StandardScaler(), nn_model)\n"
   ]
  },
  {
   "cell_type": "code",
   "execution_count": 132,
   "id": "3a0c3fa6",
   "metadata": {},
   "outputs": [
    {
     "name": "stdout",
     "output_type": "stream",
     "text": [
      "Voting Classifier Accuracy: 0.9565\n"
     ]
    }
   ],
   "source": [
    "# voting_clf = VotingClassifier(estimators=[('rf', rfmodel), ('nn', nn_pipeline)], voting='soft')\n",
    "\n",
    "# # Train the Voting Classifier\n",
    "# voting_clf.fit(X_train, y_train)\n",
    "\n",
    "# # Evaluate the model\n",
    "# accuracy = voting_clf.score(X_test, y_test)\n",
    "# print(f'Voting Classifier Accuracy: {accuracy:.4f}')"
   ]
  }
 ],
 "metadata": {
  "kernelspec": {
   "display_name": "ml_eric_py310",
   "language": "python",
   "name": "ml_eric_py310"
  },
  "language_info": {
   "codemirror_mode": {
    "name": "ipython",
    "version": 3
   },
   "file_extension": ".py",
   "mimetype": "text/x-python",
   "name": "python",
   "nbconvert_exporter": "python",
   "pygments_lexer": "ipython3",
   "version": "3.10.14"
  }
 },
 "nbformat": 4,
 "nbformat_minor": 5
}
